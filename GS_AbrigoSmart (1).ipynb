{
  "nbformat": 4,
  "nbformat_minor": 0,
  "metadata": {
    "colab": {
      "provenance": []
    },
    "kernelspec": {
      "name": "python3",
      "display_name": "Python 3"
    },
    "language_info": {
      "name": "python"
    }
  },
  "cells": [
    {
      "cell_type": "markdown",
      "source": [
        "**O MODELO DE REGRESSÃO FOI SELECIONADO POR SER ADEQUADO AO PROBLEMA DE PREVISÃO DO TEMPO DE DURAÇÃO DOS MANTIMENTOS NOS ABRIGOS EMERGENCIAIS. SEU OBJETIVO É APOIAR A GESTÃO DESSES ABRIGOS, PERMITINDO ESTIMAR DE FORMA ANTECIPADA POR QUANTO TEMPO OS RECURSOS DISPONÍVEIS SERÃO SUFICIENTES.**"
      ],
      "metadata": {
        "id": "G6MXNuq59Oen"
      }
    },
    {
      "cell_type": "markdown",
      "source": [
        "IMPORTANDO BIBLIOTECAS"
      ],
      "metadata": {
        "id": "zsWW2oX5ygU-"
      }
    },
    {
      "cell_type": "code",
      "execution_count": 1,
      "metadata": {
        "id": "f8KzKZOryc9I"
      },
      "outputs": [],
      "source": [
        "import pandas as pd\n",
        "import numpy as np\n",
        "import seaborn as sns\n",
        "import matplotlib.pyplot as plt\n",
        "from sklearn.model_selection import train_test_split\n",
        "from sklearn.preprocessing import MinMaxScaler\n",
        "from sklearn.metrics import mean_squared_error, mean_absolute_error, r2_score\n",
        "from tensorflow.keras import Sequential\n",
        "from tensorflow.keras.layers import Dense"
      ]
    },
    {
      "cell_type": "markdown",
      "source": [
        "CARREGANDO DADOS"
      ],
      "metadata": {
        "id": "aE5E6ePOyljT"
      }
    },
    {
      "cell_type": "code",
      "source": [
        "df = pd.read_csv('/content/sample_data/abrigos_com_tempo_duracao_balanceado.csv')"
      ],
      "metadata": {
        "id": "_Mwi65HfyjMv"
      },
      "execution_count": 2,
      "outputs": []
    },
    {
      "cell_type": "markdown",
      "source": [
        "LEITURA DOS DADOS"
      ],
      "metadata": {
        "id": "WWpbdZO7gD6f"
      }
    },
    {
      "cell_type": "code",
      "source": [
        "print(df.info())"
      ],
      "metadata": {
        "colab": {
          "base_uri": "https://localhost:8080/",
          "height": 0
        },
        "id": "Sw8TJ7yQRfTm",
        "outputId": "51d78632-c1c7-4265-d771-a79e9aa65981"
      },
      "execution_count": 3,
      "outputs": [
        {
          "output_type": "stream",
          "name": "stdout",
          "text": [
            "<class 'pandas.core.frame.DataFrame'>\n",
            "RangeIndex: 95 entries, 0 to 94\n",
            "Data columns (total 7 columns):\n",
            " #   Column             Non-Null Count  Dtype  \n",
            "---  ------             --------------  -----  \n",
            " 0   id_abrigo          95 non-null     int64  \n",
            " 1   capacidade_total   95 non-null     int64  \n",
            " 2   vagas_disponiveis  95 non-null     int64  \n",
            " 3   estoque_comida     95 non-null     int64  \n",
            " 4   estoque_remedios   95 non-null     int64  \n",
            " 5   estoque_agua       95 non-null     int64  \n",
            " 6   tempo_duracao      95 non-null     float64\n",
            "dtypes: float64(1), int64(6)\n",
            "memory usage: 5.3 KB\n",
            "None\n"
          ]
        }
      ]
    },
    {
      "cell_type": "code",
      "source": [
        "print(df.head())"
      ],
      "metadata": {
        "colab": {
          "base_uri": "https://localhost:8080/",
          "height": 0
        },
        "id": "E2UKPZteRSxV",
        "outputId": "d1e7aa2a-90b2-4976-92ca-d11902fec913"
      },
      "execution_count": 4,
      "outputs": [
        {
          "output_type": "stream",
          "name": "stdout",
          "text": [
            "   id_abrigo  capacidade_total  vagas_disponiveis  estoque_comida  \\\n",
            "0          1               100                 91             602   \n",
            "1          2               100                 50             537   \n",
            "2          3               100                 15             896   \n",
            "3          4               100                 44             729   \n",
            "4          5               100                 39             654   \n",
            "\n",
            "   estoque_remedios  estoque_agua  tempo_duracao  \n",
            "0               910           960          14.36  \n",
            "1               454          1301          28.77  \n",
            "2               536          1306          23.30  \n",
            "3               546          1692          19.97  \n",
            "4               615          1665           8.90  \n"
          ]
        }
      ]
    },
    {
      "cell_type": "markdown",
      "source": [
        " ANÁLISE EXPLORATÓRIA E CONFECÇÃO DOS GRAFICOS"
      ],
      "metadata": {
        "id": "GD-EWVksgUC-"
      }
    },
    {
      "cell_type": "code",
      "source": [
        "sns.histplot(df['vagas_disponiveis'], bins=20)\n",
        "plt.title('Distribuição de vagas por abrigos')\n",
        "plt.xlabel('Vagas disponíveis')\n",
        "plt.ylabel('Quantidade de abrigos')\n",
        "plt.show()"
      ],
      "metadata": {
        "colab": {
          "base_uri": "https://localhost:8080/",
          "height": 472
        },
        "id": "cZ6lLBBVSd4u",
        "outputId": "553676e9-64bf-4ee7-f633-ec729f4e2880"
      },
      "execution_count": 5,
      "outputs": [
        {
          "output_type": "display_data",
          "data": {
            "text/plain": [
              "<Figure size 640x480 with 1 Axes>"
            ],
            "image/png": "[encoded data removed]"
          },
          "metadata": {}
        }
      ]
    },
    {
      "cell_type": "markdown",
      "source": [
        "CADA BARRA DO GRAFICO REPRESENTA UM AGRUPAMENTO DE 20 ABRIGOS."
      ],
      "metadata": {
        "id": "1jt1TnvH7E4l"
      }
    },
    {
      "cell_type": "code",
      "source": [
        "sns.histplot(df['estoque_comida'], bins=20)\n",
        "plt.title('Distribuição de alimentos por abrigos')\n",
        "plt.xlabel('estoque de comida')\n",
        "plt.ylabel('Quantidade de abrigos')\n",
        "plt.show()"
      ],
      "metadata": {
        "colab": {
          "base_uri": "https://localhost:8080/",
          "height": 472
        },
        "id": "HfL73yBfSaJz",
        "outputId": "b0f6c0fb-7e22-4812-8ea2-938640d0d0c7"
      },
      "execution_count": 6,
      "outputs": [
        {
          "output_type": "display_data",
          "data": {
            "text/plain": [
              "<Figure size 640x480 with 1 Axes>"
            ],
            "image/png": "[encoded data removed]"
          },
          "metadata": {}
        }
      ]
    },
    {
      "cell_type": "markdown",
      "source": [
        "CADA BARRA DO GRAFICO REPRESENTA UM AGRUPAMENTO DE 20 ABRIGOS."
      ],
      "metadata": {
        "id": "iEm6tuKe7UGp"
      }
    },
    {
      "cell_type": "code",
      "source": [
        "sns.histplot(df['estoque_agua'], bins=20)\n",
        "plt.title('Distribuição de água por abrigos')\n",
        "plt.xlabel('Águas em litros disponíveis')\n",
        "plt.ylabel('Quantidade de abrigos')\n",
        "plt.show()"
      ],
      "metadata": {
        "colab": {
          "base_uri": "https://localhost:8080/",
          "height": 474
        },
        "id": "es2xthUP3lEV",
        "outputId": "ebfd60a4-a9f7-4eeb-a9c0-261c313b99aa"
      },
      "execution_count": 7,
      "outputs": [
        {
          "output_type": "display_data",
          "data": {
            "text/plain": [
              "<Figure size 640x480 with 1 Axes>"
            ],
            "image/png": "[encoded data removed]"
          },
          "metadata": {}
        }
      ]
    },
    {
      "cell_type": "markdown",
      "source": [
        "CADA BARRA DO GRAFICO REPRESENTA UM AGRUPAMENTO DE 20 ABRIGOS."
      ],
      "metadata": {
        "id": "f2woY2Rq7bW-"
      }
    },
    {
      "cell_type": "markdown",
      "source": [
        "SELEÇÃO DE FEATURES E TARGET"
      ],
      "metadata": {
        "id": "WHGFTPxlyroU"
      }
    },
    {
      "cell_type": "code",
      "source": [
        "features = ['vagas_disponiveis', 'estoque_comida', 'estoque_remedios', 'estoque_agua']\n",
        "target = 'tempo_duracao'\n",
        "\n",
        "X = df[features]\n",
        "y = df[target]\n"
      ],
      "metadata": {
        "id": "pkY-K3W8ynKn"
      },
      "execution_count": 8,
      "outputs": []
    },
    {
      "cell_type": "markdown",
      "source": [
        "NORMALIZAÇÃO DOS DADOS"
      ],
      "metadata": {
        "id": "R7q3AKq4yxO0"
      }
    },
    {
      "cell_type": "code",
      "source": [
        "scaler_X = MinMaxScaler()\n",
        "X_normalizado = scaler_X.fit_transform(X)\n",
        "\n",
        "scaler_y = MinMaxScaler()\n",
        "y_normalizado = scaler_y.fit_transform(y.values.reshape(-1, 1)).flatten()"
      ],
      "metadata": {
        "id": "RgDSjkB0yuN0"
      },
      "execution_count": 9,
      "outputs": []
    },
    {
      "cell_type": "markdown",
      "source": [
        "SEPARAÇÃO DOS DADOS PARA TREINO"
      ],
      "metadata": {
        "id": "TwO303tny2Wt"
      }
    },
    {
      "cell_type": "code",
      "source": [
        "X_train, X_test, y_train, y_test = train_test_split(\n",
        "    X_normalizado, y_normalizado, test_size=0.3, random_state=42\n",
        ")"
      ],
      "metadata": {
        "id": "WMPRZYm6yz7g"
      },
      "execution_count": 10,
      "outputs": []
    },
    {
      "cell_type": "code",
      "source": [
        "modelo = Sequential()\n",
        "modelo.add(Dense(16, activation='relu', input_shape=(X_train.shape[1],)))\n",
        "modelo.add(Dense(8, activation='relu'))\n",
        "modelo.add(Dense(1, activation='relu'))\n",
        "modelo.compile(optimizer='adam', loss='mse', metrics=['mae'])"
      ],
      "metadata": {
        "colab": {
          "base_uri": "https://localhost:8080/",
          "height": 0
        },
        "id": "tm24wd4Py6IJ",
        "outputId": "9ac4d1c6-7190-4f43-aaef-4d5da83fc7eb"
      },
      "execution_count": 11,
      "outputs": [
        {
          "output_type": "stream",
          "name": "stderr",
          "text": [
            "/usr/local/lib/python3.11/dist-packages/keras/src/layers/core/dense.py:87: UserWarning: Do not pass an `input_shape`/`input_dim` argument to a layer. When using Sequential models, prefer using an `Input(shape)` object as the first layer in the model instead.\n",
            "  super().__init__(activity_regularizer=activity_regularizer, **kwargs)\n"
          ]
        }
      ]
    },
    {
      "cell_type": "markdown",
      "source": [
        "TREINAMENTO DO MODELO"
      ],
      "metadata": {
        "id": "ASsx1m_jzCxk"
      }
    },
    {
      "cell_type": "code",
      "source": [
        "historico = modelo.fit(\n",
        "    X_train, y_train,\n",
        "    epochs=40,\n",
        "    validation_split=0.2,\n",
        "    verbose=2\n",
        ")\n"
      ],
      "metadata": {
        "colab": {
          "base_uri": "https://localhost:8080/",
          "height": 0
        },
        "id": "CBPZkWEKy_zJ",
        "outputId": "4749e64e-3107-41e1-bfc8-198b52a74bd2"
      },
      "execution_count": 12,
      "outputs": [
        {
          "output_type": "stream",
          "name": "stdout",
          "text": [
            "Epoch 1/40\n",
            "2/2 - 3s - 2s/step - loss: 0.2940 - mae: 0.4572 - val_loss: 0.2885 - val_mae: 0.4702\n",
            "Epoch 2/40\n",
            "2/2 - 0s - 192ms/step - loss: 0.2713 - mae: 0.4407 - val_loss: 0.2638 - val_mae: 0.4493\n",
            "Epoch 3/40\n",
            "2/2 - 0s - 50ms/step - loss: 0.2492 - mae: 0.4235 - val_loss: 0.2392 - val_mae: 0.4255\n",
            "Epoch 4/40\n",
            "2/2 - 0s - 48ms/step - loss: 0.2323 - mae: 0.4079 - val_loss: 0.2159 - val_mae: 0.4009\n",
            "Epoch 5/40\n",
            "2/2 - 0s - 46ms/step - loss: 0.2079 - mae: 0.3836 - val_loss: 0.1904 - val_mae: 0.3735\n",
            "Epoch 6/40\n",
            "2/2 - 0s - 54ms/step - loss: 0.1840 - mae: 0.3612 - val_loss: 0.1675 - val_mae: 0.3479\n",
            "Epoch 7/40\n",
            "2/2 - 0s - 48ms/step - loss: 0.1648 - mae: 0.3409 - val_loss: 0.1480 - val_mae: 0.3234\n",
            "Epoch 8/40\n",
            "2/2 - 0s - 70ms/step - loss: 0.1486 - mae: 0.3198 - val_loss: 0.1322 - val_mae: 0.3068\n",
            "Epoch 9/40\n",
            "2/2 - 0s - 66ms/step - loss: 0.1372 - mae: 0.3066 - val_loss: 0.1199 - val_mae: 0.2940\n",
            "Epoch 10/40\n",
            "2/2 - 0s - 46ms/step - loss: 0.1298 - mae: 0.2978 - val_loss: 0.1110 - val_mae: 0.2861\n",
            "Epoch 11/40\n",
            "2/2 - 0s - 70ms/step - loss: 0.1266 - mae: 0.2958 - val_loss: 0.1048 - val_mae: 0.2791\n",
            "Epoch 12/40\n",
            "2/2 - 0s - 68ms/step - loss: 0.1239 - mae: 0.2908 - val_loss: 0.1010 - val_mae: 0.2733\n",
            "Epoch 13/40\n",
            "2/2 - 0s - 70ms/step - loss: 0.1260 - mae: 0.2916 - val_loss: 0.0984 - val_mae: 0.2688\n",
            "Epoch 14/40\n",
            "2/2 - 0s - 68ms/step - loss: 0.1266 - mae: 0.2930 - val_loss: 0.0969 - val_mae: 0.2669\n",
            "Epoch 15/40\n",
            "2/2 - 0s - 58ms/step - loss: 0.1268 - mae: 0.2931 - val_loss: 0.0959 - val_mae: 0.2658\n",
            "Epoch 16/40\n",
            "2/2 - 0s - 49ms/step - loss: 0.1269 - mae: 0.2938 - val_loss: 0.0950 - val_mae: 0.2650\n",
            "Epoch 17/40\n",
            "2/2 - 0s - 71ms/step - loss: 0.1264 - mae: 0.2934 - val_loss: 0.0942 - val_mae: 0.2647\n",
            "Epoch 18/40\n",
            "2/2 - 0s - 63ms/step - loss: 0.1250 - mae: 0.2924 - val_loss: 0.0936 - val_mae: 0.2649\n",
            "Epoch 19/40\n",
            "2/2 - 0s - 49ms/step - loss: 0.1237 - mae: 0.2914 - val_loss: 0.0933 - val_mae: 0.2655\n",
            "Epoch 20/40\n",
            "2/2 - 0s - 65ms/step - loss: 0.1213 - mae: 0.2894 - val_loss: 0.0932 - val_mae: 0.2662\n",
            "Epoch 21/40\n",
            "2/2 - 0s - 49ms/step - loss: 0.1197 - mae: 0.2886 - val_loss: 0.0934 - val_mae: 0.2672\n",
            "Epoch 22/40\n",
            "2/2 - 0s - 70ms/step - loss: 0.1177 - mae: 0.2871 - val_loss: 0.0936 - val_mae: 0.2689\n",
            "Epoch 23/40\n",
            "2/2 - 0s - 67ms/step - loss: 0.1166 - mae: 0.2873 - val_loss: 0.0940 - val_mae: 0.2704\n",
            "Epoch 24/40\n",
            "2/2 - 0s - 68ms/step - loss: 0.1149 - mae: 0.2858 - val_loss: 0.0942 - val_mae: 0.2714\n",
            "Epoch 25/40\n",
            "2/2 - 0s - 49ms/step - loss: 0.1147 - mae: 0.2867 - val_loss: 0.0946 - val_mae: 0.2726\n",
            "Epoch 26/40\n",
            "2/2 - 0s - 70ms/step - loss: 0.1136 - mae: 0.2855 - val_loss: 0.0947 - val_mae: 0.2732\n",
            "Epoch 27/40\n",
            "2/2 - 0s - 49ms/step - loss: 0.1127 - mae: 0.2851 - val_loss: 0.0945 - val_mae: 0.2733\n",
            "Epoch 28/40\n",
            "2/2 - 0s - 67ms/step - loss: 0.1123 - mae: 0.2850 - val_loss: 0.0942 - val_mae: 0.2733\n",
            "Epoch 29/40\n",
            "2/2 - 0s - 76ms/step - loss: 0.1116 - mae: 0.2847 - val_loss: 0.0937 - val_mae: 0.2730\n",
            "Epoch 30/40\n",
            "2/2 - 0s - 57ms/step - loss: 0.1110 - mae: 0.2842 - val_loss: 0.0929 - val_mae: 0.2724\n",
            "Epoch 31/40\n",
            "2/2 - 0s - 49ms/step - loss: 0.1103 - mae: 0.2839 - val_loss: 0.0921 - val_mae: 0.2716\n",
            "Epoch 32/40\n",
            "2/2 - 0s - 47ms/step - loss: 0.1098 - mae: 0.2836 - val_loss: 0.0912 - val_mae: 0.2706\n",
            "Epoch 33/40\n",
            "2/2 - 0s - 48ms/step - loss: 0.1093 - mae: 0.2834 - val_loss: 0.0899 - val_mae: 0.2691\n",
            "Epoch 34/40\n",
            "2/2 - 0s - 47ms/step - loss: 0.1088 - mae: 0.2832 - val_loss: 0.0889 - val_mae: 0.2679\n",
            "Epoch 35/40\n",
            "2/2 - 0s - 46ms/step - loss: 0.1081 - mae: 0.2826 - val_loss: 0.0882 - val_mae: 0.2671\n",
            "Epoch 36/40\n",
            "2/2 - 0s - 47ms/step - loss: 0.1078 - mae: 0.2826 - val_loss: 0.0875 - val_mae: 0.2663\n",
            "Epoch 37/40\n",
            "2/2 - 0s - 68ms/step - loss: 0.1072 - mae: 0.2821 - val_loss: 0.0871 - val_mae: 0.2661\n",
            "Epoch 38/40\n",
            "2/2 - 0s - 53ms/step - loss: 0.1067 - mae: 0.2815 - val_loss: 0.0867 - val_mae: 0.2658\n",
            "Epoch 39/40\n",
            "2/2 - 0s - 77ms/step - loss: 0.1064 - mae: 0.2815 - val_loss: 0.0866 - val_mae: 0.2659\n",
            "Epoch 40/40\n",
            "2/2 - 0s - 60ms/step - loss: 0.1059 - mae: 0.2809 - val_loss: 0.0861 - val_mae: 0.2653\n"
          ]
        }
      ]
    },
    {
      "cell_type": "markdown",
      "source": [
        "CALCULO DAS METRICAS DE AVALIAÇÃO"
      ],
      "metadata": {
        "id": "RO9i959A2T7E"
      }
    },
    {
      "cell_type": "code",
      "source": [
        "y_pred = modelo.predict(X_test).flatten()\n",
        "y_pred_desnormalizado = scaler_y.inverse_transform(y_pred.reshape(-1,1)).flatten()\n",
        "y_test_desnormalizado = scaler_y.inverse_transform(y_test.reshape(-1,1)).flatten()\n",
        "\n",
        "\n",
        "y_pred_desnormalizado = np.maximum(y_pred_desnormalizado, 0)\n",
        "\n",
        "mse = mean_squared_error(y_test_desnormalizado, y_pred_desnormalizado)\n",
        "mae = mean_absolute_error(y_test_desnormalizado, y_pred_desnormalizado)\n",
        "rmse = np.sqrt(mse)\n",
        "r2 = r2_score(y_test_desnormalizado, y_pred_desnormalizado)\n",
        "\n",
        "print(\"\\nAvaliação do Modelo:\")\n",
        "print(f\"MAE:  {mae:.2f}\")\n",
        "print(f\"MSE:  {mse:.2f}\")\n",
        "print(f\"RMSE: {rmse:.2f}\")\n",
        "print(f\"R²:   {r2:.2f}\")"
      ],
      "metadata": {
        "colab": {
          "base_uri": "https://localhost:8080/",
          "height": 0
        },
        "id": "9ih2MhhqzEPv",
        "outputId": "f345ffc5-36c1-4f51-a7f1-a3a6be6876dc"
      },
      "execution_count": 13,
      "outputs": [
        {
          "output_type": "stream",
          "name": "stdout",
          "text": [
            "\u001b[1m1/1\u001b[0m \u001b[32m━━━━━━━━━━━━━━━━━━━━\u001b[0m\u001b[37m\u001b[0m \u001b[1m0s\u001b[0m 78ms/step\n",
            "\n",
            "Avaliação do Modelo:\n",
            "MAE:  6.41\n",
            "MSE:  52.96\n",
            "RMSE: 7.28\n",
            "R²:   0.03\n"
          ]
        }
      ]
    },
    {
      "cell_type": "markdown",
      "source": [
        "PREDIÇÃO DOS ABRIGOS"
      ],
      "metadata": {
        "id": "eJsGu8As3BZb"
      }
    },
    {
      "cell_type": "code",
      "source": [
        "X_abrigo_normalizado = scaler_X.transform(X)\n",
        "\n",
        "\n",
        "preds_normalizado = modelo.predict(X_abrigo_normalizado)\n",
        "\n",
        "\n",
        "preds_dias = scaler_y.inverse_transform(preds_normalizado).flatten()\n",
        "\n",
        "\n",
        "preds_dias = np.maximum(preds_dias, 0)\n",
        "\n",
        "\n",
        "resultado = pd.DataFrame({\n",
        "    'id_abrigo': df['id_abrigo'],\n",
        "    'tempo_duracao_previsto_dias': preds_dias\n",
        "})\n"
      ],
      "metadata": {
        "colab": {
          "base_uri": "https://localhost:8080/",
          "height": 0
        },
        "id": "I2jxxAVGzRjS",
        "outputId": "c1b7148c-86c1-439e-bd22-a5f0a698e5e3"
      },
      "execution_count": 14,
      "outputs": [
        {
          "output_type": "stream",
          "name": "stdout",
          "text": [
            "\u001b[1m3/3\u001b[0m \u001b[32m━━━━━━━━━━━━━━━━━━━━\u001b[0m\u001b[37m\u001b[0m \u001b[1m0s\u001b[0m 11ms/step\n"
          ]
        }
      ]
    },
    {
      "cell_type": "markdown",
      "source": [
        "ORGANIZAÇÃO E EXIBIÇÃO DOS RESULTADOS OBTIDOS"
      ],
      "metadata": {
        "id": "xJMClv653Hy7"
      }
    },
    {
      "cell_type": "code",
      "source": [
        "print(\"\\nPredição de tempo de duração dos mantimentos (em dias) por abrigo:\")\n",
        "for index, row in resultado.iterrows():\n",
        "    print(f\"[{row['id_abrigo']}] -> [{row['tempo_duracao_previsto_dias']:.2f}]\")"
      ],
      "metadata": {
        "colab": {
          "base_uri": "https://localhost:8080/",
          "height": 0
        },
        "id": "kOqTvrtuzX3s",
        "outputId": "0468dd1e-1652-46bd-d497-95a8059cb591"
      },
      "execution_count": 15,
      "outputs": [
        {
          "output_type": "stream",
          "name": "stdout",
          "text": [
            "\n",
            "Predição de tempo de duração dos mantimentos (em dias) por abrigo:\n",
            "[1.0] -> [16.40]\n",
            "[2.0] -> [16.48]\n",
            "[3.0] -> [14.67]\n",
            "[4.0] -> [18.30]\n",
            "[5.0] -> [18.63]\n",
            "[6.0] -> [18.55]\n",
            "[7.0] -> [19.78]\n",
            "[8.0] -> [20.72]\n",
            "[9.0] -> [18.22]\n",
            "[10.0] -> [17.03]\n",
            "[11.0] -> [14.31]\n",
            "[12.0] -> [21.54]\n",
            "[13.0] -> [17.93]\n",
            "[14.0] -> [13.03]\n",
            "[16.0] -> [12.73]\n",
            "[17.0] -> [17.68]\n",
            "[18.0] -> [17.67]\n",
            "[19.0] -> [13.22]\n",
            "[20.0] -> [16.35]\n",
            "[21.0] -> [16.43]\n",
            "[22.0] -> [16.88]\n",
            "[23.0] -> [17.54]\n",
            "[24.0] -> [13.04]\n",
            "[25.0] -> [17.18]\n",
            "[26.0] -> [17.39]\n",
            "[27.0] -> [20.82]\n",
            "[28.0] -> [21.11]\n",
            "[29.0] -> [16.57]\n",
            "[30.0] -> [17.04]\n",
            "[31.0] -> [15.07]\n",
            "[32.0] -> [16.70]\n",
            "[33.0] -> [19.72]\n",
            "[35.0] -> [18.49]\n",
            "[36.0] -> [17.11]\n",
            "[37.0] -> [18.27]\n",
            "[38.0] -> [18.22]\n",
            "[39.0] -> [14.78]\n",
            "[40.0] -> [17.39]\n",
            "[41.0] -> [15.76]\n",
            "[42.0] -> [20.71]\n",
            "[43.0] -> [17.66]\n",
            "[44.0] -> [19.37]\n",
            "[45.0] -> [14.19]\n",
            "[46.0] -> [15.13]\n",
            "[47.0] -> [14.55]\n",
            "[48.0] -> [18.53]\n",
            "[50.0] -> [18.81]\n",
            "[51.0] -> [19.52]\n",
            "[52.0] -> [19.31]\n",
            "[53.0] -> [17.02]\n",
            "[54.0] -> [19.09]\n",
            "[55.0] -> [16.32]\n",
            "[56.0] -> [16.72]\n",
            "[58.0] -> [17.99]\n",
            "[59.0] -> [12.64]\n",
            "[60.0] -> [20.08]\n",
            "[61.0] -> [14.24]\n",
            "[62.0] -> [13.49]\n",
            "[63.0] -> [15.11]\n",
            "[64.0] -> [18.51]\n",
            "[65.0] -> [14.50]\n",
            "[66.0] -> [20.10]\n",
            "[67.0] -> [16.17]\n",
            "[68.0] -> [19.04]\n",
            "[69.0] -> [16.04]\n",
            "[70.0] -> [17.10]\n",
            "[71.0] -> [15.33]\n",
            "[72.0] -> [16.90]\n",
            "[73.0] -> [17.94]\n",
            "[74.0] -> [13.68]\n",
            "[75.0] -> [18.61]\n",
            "[76.0] -> [18.59]\n",
            "[77.0] -> [14.00]\n",
            "[78.0] -> [16.79]\n",
            "[79.0] -> [16.76]\n",
            "[80.0] -> [19.07]\n",
            "[81.0] -> [20.13]\n",
            "[82.0] -> [22.21]\n",
            "[83.0] -> [16.82]\n",
            "[84.0] -> [18.33]\n",
            "[85.0] -> [15.77]\n",
            "[86.0] -> [17.76]\n",
            "[87.0] -> [19.73]\n",
            "[89.0] -> [18.11]\n",
            "[90.0] -> [16.59]\n",
            "[91.0] -> [22.26]\n",
            "[92.0] -> [17.86]\n",
            "[93.0] -> [13.51]\n",
            "[94.0] -> [15.34]\n",
            "[95.0] -> [15.64]\n",
            "[96.0] -> [20.32]\n",
            "[97.0] -> [15.57]\n",
            "[98.0] -> [14.04]\n",
            "[99.0] -> [19.90]\n",
            "[100.0] -> [17.06]\n"
          ]
        }
      ]
    }
  ]
}